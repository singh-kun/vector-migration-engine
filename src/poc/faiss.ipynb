{
 "cells": [
  {
   "cell_type": "code",
   "execution_count": 3,
   "metadata": {},
   "outputs": [],
   "source": [
    "from langchain_community.vectorstores import FAISS\n",
    "from load_model import embedding_model\n",
    "\n",
    "\n",
    "faiss_vector_store = FAISS.load_local(\n",
    "        \"C:/chaser/Projects/machine_learning/repo/vme/vector-migration-engine/src/common/faiss-vme\",\n",
    "        embedding_model,\n",
    "        allow_dangerous_deserialization=True\n",
    "    )"
   ]
  },
  {
   "cell_type": "code",
   "execution_count": 9,
   "metadata": {},
   "outputs": [
    {
     "data": {
      "text/plain": [
       "3072"
      ]
     },
     "execution_count": 9,
     "metadata": {},
     "output_type": "execute_result"
    }
   ],
   "source": [
    "faiss_vector_store.index.d"
   ]
  },
  {
   "cell_type": "code",
   "execution_count": null,
   "metadata": {},
   "outputs": [],
   "source": [
    "import faiss\n",
    "index = faiss_vector_store.index\n",
    "num_docs = index.ntotal\n",
    "embedding_dimension = index.d\n",
    "embeddings = faiss.rev_swig_ptr(index.get_xb(), num_docs*embedding_dimension).reshape(num_docs, embedding_dimension)"
   ]
  },
  {
   "cell_type": "code",
   "execution_count": 8,
   "metadata": {},
   "outputs": [
    {
     "data": {
      "text/plain": [
       "array([[ 0.0195074 ,  0.00574814, -0.03595759, ..., -0.01174814,\n",
       "        -0.01845864, -0.0329712 ],\n",
       "       [-0.012397  , -0.00921397, -0.01891408, ..., -0.02583892,\n",
       "        -0.02235285, -0.00724049],\n",
       "       [-0.02362068, -0.00270129,  0.00756331, ..., -0.01535058,\n",
       "         0.00880263, -0.02478233],\n",
       "       ...,\n",
       "       [-0.01553523, -0.00025663, -0.01848965, ..., -0.01089378,\n",
       "         0.00824404, -0.01827872],\n",
       "       [-0.00876156,  0.00729987, -0.01905377, ..., -0.01837414,\n",
       "        -0.03031823, -0.01890157],\n",
       "       [-0.0117278 , -0.00492078,  0.01836399, ..., -0.00878429,\n",
       "        -0.00303267, -0.01462043]], dtype=float32)"
      ]
     },
     "execution_count": 8,
     "metadata": {},
     "output_type": "execute_result"
    }
   ],
   "source": [
    "embeddings"
   ]
  },
  {
   "cell_type": "code",
   "execution_count": null,
   "metadata": {},
   "outputs": [],
   "source": []
  }
 ],
 "metadata": {
  "kernelspec": {
   "display_name": "vme-demo",
   "language": "python",
   "name": "python3"
  },
  "language_info": {
   "codemirror_mode": {
    "name": "ipython",
    "version": 3
   },
   "file_extension": ".py",
   "mimetype": "text/x-python",
   "name": "python",
   "nbconvert_exporter": "python",
   "pygments_lexer": "ipython3",
   "version": "3.11.11"
  }
 },
 "nbformat": 4,
 "nbformat_minor": 2
}
